{
 "cells": [
  {
   "cell_type": "markdown",
   "metadata": {},
   "source": [
    "## Ellipse Fit"
   ]
  },
  {
   "cell_type": "markdown",
   "metadata": {},
   "source": [
    "## Using Combined Equation Method"
   ]
  },
  {
   "cell_type": "code",
   "execution_count": 88,
   "metadata": {},
   "outputs": [],
   "source": [
    "#Importing Libraries\n",
    "import math\n",
    "import sympy as sym\n",
    "sym.init_printing()\n",
    "import numpy as np\n",
    "from pprint import pprint"
   ]
  },
  {
   "cell_type": "code",
   "execution_count": 89,
   "metadata": {},
   "outputs": [],
   "source": [
    "x1,x2,x3,x4,y1,y2,y3,y4,Xc,Yc,R  = sym.var('x1 x2 x3 x4 y1 y2 y3 y4 Xc Yc R ' ) # Parameters"
   ]
  },
  {
   "cell_type": "code",
   "execution_count": 90,
   "metadata": {},
   "outputs": [],
   "source": [
    "\n",
    "# Observation Vector\n",
    "\n",
    "Lb = np.array([\n",
    "    [x1],\n",
    "    [x2],\n",
    "    [x3],\n",
    "    [x4],\n",
    "    [y1],\n",
    "    [y2],\n",
    "    [y3],\n",
    "    [y4]\n",
    "])\n",
    "\n",
    "\n",
    "f1 = ((y1-Yc)**2 + (Xc-x1)**2)**0.5 - R\n",
    "f2 = ((y2-Yc)**2 + (Xc-x2)**2)**0.5 - R\n",
    "f3 = ((y3-Yc)**2 + (Xc-x3)**2)**0.5 - R\n",
    "f4 = ((y4-Yc)**2 + (Xc-x4)**2)**0.5 - R\n"
   ]
  },
  {
   "cell_type": "code",
   "execution_count": 91,
   "metadata": {},
   "outputs": [
    {
     "name": "stdout",
     "output_type": "stream",
     "text": [
      "The Design Matrix of First Kind A is: {}\n",
      " [[(1.0*Xc - 1.0*x1)*((Xc - x1)**2 + (-Yc + y1)**2)**(-0.5)\n",
      "  (1.0*Yc - 1.0*y1)*((Xc - x1)**2 + (-Yc + y1)**2)**(-0.5) -1]\n",
      " [(1.0*Xc - 1.0*x2)*((Xc - x2)**2 + (-Yc + y2)**2)**(-0.5)\n",
      "  (1.0*Yc - 1.0*y2)*((Xc - x2)**2 + (-Yc + y2)**2)**(-0.5) -1]\n",
      " [(1.0*Xc - 1.0*x3)*((Xc - x3)**2 + (-Yc + y3)**2)**(-0.5)\n",
      "  (1.0*Yc - 1.0*y3)*((Xc - x3)**2 + (-Yc + y3)**2)**(-0.5) -1]\n",
      " [(1.0*Xc - 1.0*x4)*((Xc - x4)**2 + (-Yc + y4)**2)**(-0.5)\n",
      "  (1.0*Yc - 1.0*y4)*((Xc - x4)**2 + (-Yc + y4)**2)**(-0.5) -1]]\n"
     ]
    }
   ],
   "source": [
    "#Defining Design Matrix of First Kind, A\n",
    "\n",
    "A = np.array([\n",
    "    [sym.diff(f1,Xc), sym.diff(f1,Yc), sym.diff(f1,R)],\n",
    "    [sym.diff(f2,Xc), sym.diff(f2,Yc), sym.diff(f2,R)],\n",
    "    [sym.diff(f3,Xc), sym.diff(f3,Yc), sym.diff(f3,R)],\n",
    "    [sym.diff(f4,Xc), sym.diff(f4,Yc), sym.diff(f4,R)]\n",
    "])\n",
    "\n",
    "print(\"The Design Matrix of First Kind A is: {}\\n\", A)"
   ]
  },
  {
   "cell_type": "code",
   "execution_count": 92,
   "metadata": {},
   "outputs": [
    {
     "name": "stdout",
     "output_type": "stream",
     "text": [
      "The Design Matrix of Second Kind B is: {}\n",
      " [[(-1.0*Xc + 1.0*x1)*((Xc - x1)**2 + (-Yc + y1)**2)**(-0.5) 0 0 0\n",
      "  (-1.0*Yc + 1.0*y1)*((Xc - x1)**2 + (-Yc + y1)**2)**(-0.5) 0 0 0]\n",
      " [0 (-1.0*Xc + 1.0*x2)*((Xc - x2)**2 + (-Yc + y2)**2)**(-0.5) 0 0 0\n",
      "  (-1.0*Yc + 1.0*y2)*((Xc - x2)**2 + (-Yc + y2)**2)**(-0.5) 0 0]\n",
      " [0 0 (-1.0*Xc + 1.0*x3)*((Xc - x3)**2 + (-Yc + y3)**2)**(-0.5) 0 0 0\n",
      "  (-1.0*Yc + 1.0*y3)*((Xc - x3)**2 + (-Yc + y3)**2)**(-0.5) 0]\n",
      " [0 0 0 (-1.0*Xc + 1.0*x4)*((Xc - x4)**2 + (-Yc + y4)**2)**(-0.5) 0 0 0\n",
      "  (-1.0*Yc + 1.0*y4)*((Xc - x4)**2 + (-Yc + y4)**2)**(-0.5)]]\n"
     ]
    }
   ],
   "source": [
    "#Defining Design Matrix of Second Kind, B\n",
    "\n",
    "B = np.array([\n",
    "    [sym.diff(f1,x1), sym.diff(f1,x2), sym.diff(f1,x3),sym.diff(f1,x4), sym.diff(f1,y1), sym.diff(f1,y2),sym.diff(f1,y3), sym.diff(f1,y4)],\n",
    "    [sym.diff(f2,x1), sym.diff(f2,x2), sym.diff(f2,x3),sym.diff(f2,x4), sym.diff(f2,y1), sym.diff(f2,y2),sym.diff(f2,y3), sym.diff(f2,y4)],\n",
    "    [sym.diff(f3,x1), sym.diff(f3,x2), sym.diff(f3,x3),sym.diff(f3,x4), sym.diff(f3,y1), sym.diff(f3,y2),sym.diff(f3,y3), sym.diff(f3,y4)],\n",
    "    [sym.diff(f4,x1), sym.diff(f4,x2), sym.diff(f4,x3),sym.diff(f4,x4), sym.diff(f4,y1), sym.diff(f4,y2),sym.diff(f4,y3), sym.diff(f4,y4)]\n",
    "    \n",
    "])\n",
    "\n",
    "print(\"The Design Matrix of Second Kind B is: {}\\n\", B)"
   ]
  },
  {
   "cell_type": "code",
   "execution_count": 147,
   "metadata": {},
   "outputs": [
    {
     "name": "stdout",
     "output_type": "stream",
     "text": [
      "[]\n"
     ]
    }
   ],
   "source": [
    "#Getting the intial approximate values X0, Y0, R0 by solving any three equation\n",
    "\n",
    "x1 = 140\n",
    "y1 = 60\n",
    "\n",
    "x2 = 165\n",
    "y2 = 100\n",
    "\n",
    "x3 = 165\n",
    "y3 = 150\n",
    "\n",
    "x4 = 140\n",
    "y4 = 180\n",
    "\n",
    "f1 = ((60-Yc)**2 + (Xc-140)**2)**0.5 - R\n",
    "f2 = ((100-Yc)**2 + (Xc-165)**2)**0.5 - R\n",
    "f3 = ((150-Yc)**2 + (Xc-165)**2)**0.5 - R\n",
    "\n",
    "\n",
    "print(sym.solve((f1,f2,f3)))"
   ]
  },
  {
   "cell_type": "code",
   "execution_count": 127,
   "metadata": {},
   "outputs": [
    {
     "name": "stdout",
     "output_type": "stream",
     "text": [
      "The First Approximation of Design Matrix of First Kind A0 is: \n",
      " [[[-0.67521059  0.73762501 -1.        ]\n",
      "  [-0.95891252  0.28370193 -1.        ]\n",
      "  [-0.95891252 -0.28370193 -1.        ]\n",
      "  [-0.7343301  -0.67879253 -1.        ]]]\n"
     ]
    }
   ],
   "source": [
    "x1 = 140\n",
    "y1 = 60\n",
    "\n",
    "x2 = 165\n",
    "y2 = 100\n",
    "\n",
    "x3 = 165\n",
    "y3 = 150\n",
    "\n",
    "x4 = 140\n",
    "y4 = 180\n",
    "\n",
    "R = 88.1206559212992\n",
    "Xc = 80.5000000000000\n",
    "Yc = 125.000000000000\n",
    "\n",
    "A0 = np.array([\n",
    "    [[(1.0*Xc - 1.0*x1)*((Xc - x1)**2 + (-Yc + y1)**2)**(-0.5),\n",
    "  (1.0*Yc - 1.0*y1)*((Xc - x1)**2 + (-Yc + y1)**2)**(-0.5), -1],\n",
    " [(1.0*Xc - 1.0*x2)*((Xc - x2)**2 + (-Yc + y2)**2)**(-0.5),\n",
    "  (1.0*Yc - 1.0*y2)*((Xc - x2)**2 + (-Yc + y2)**2)**(-0.5) ,-1],\n",
    " [(1.0*Xc - 1.0*x3)*((Xc - x3)**2 + (-Yc + y3)**2)**(-0.5),\n",
    "  (1.0*Yc - 1.0*y3)*((Xc - x3)**2 + (-Yc + y3)**2)**(-0.5), -1],\n",
    " [(1.0*Xc - 1.0*x4)*((Xc - x4)**2 + (-Yc + y4)**2)**(-0.5),\n",
    "  (1.0*Yc - 1.0*y4)*((Xc - x4)**2 + (-Yc + y4)**2)**(-0.5), -1]]\n",
    "])\n",
    "\n",
    "print(\"The First Approximation of Design Matrix of First Kind A0 is: \\n\", A0)"
   ]
  },
  {
   "cell_type": "code",
   "execution_count": 131,
   "metadata": {},
   "outputs": [
    {
     "name": "stdout",
     "output_type": "stream",
     "text": [
      "The First Approximation of Design Matrix of Second Kind B0 is: \n",
      " [[[ 0.67521059  0.          0.          0.         -0.73762501\n",
      "    0.          0.          0.        ]\n",
      "  [ 0.          0.95891252  0.          0.          0.\n",
      "   -0.28370193  0.          0.        ]\n",
      "  [ 0.          0.          0.95891252  0.          0.\n",
      "    0.          0.28370193  0.        ]\n",
      "  [ 0.          0.          0.          0.7343301   0.\n",
      "    0.          0.          0.67879253]]]\n"
     ]
    }
   ],
   "source": [
    "x1 = 140\n",
    "y1 = 60\n",
    "\n",
    "x2 = 165\n",
    "y2 = 100\n",
    "\n",
    "x3 = 165\n",
    "y3 = 150\n",
    "\n",
    "x4 = 140\n",
    "y4 = 180\n",
    "\n",
    "R = 88.1206559212992\n",
    "Xc = 80.5000000000000\n",
    "Yc = 125.000000000000\n",
    "\n",
    "B0 = np.array([\n",
    "    [[(-1.0*Xc + 1.0*x1)*((Xc - x1)**2 + (-Yc + y1)**2)**(-0.5) ,0 ,0 ,0,\n",
    "  (-1.0*Yc + 1.0*y1)*((Xc - x1)**2 + (-Yc + y1)**2)**(-0.5) ,0 ,0 ,0],\n",
    " [0, (-1.0*Xc + 1.0*x2)*((Xc - x2)**2 + (-Yc + y2)**2)**(-0.5) ,0 ,0 ,0,\n",
    "  (-1.0*Yc + 1.0*y2)*((Xc - x2)**2 + (-Yc + y2)**2)**(-0.5), 0 ,0],\n",
    " [0, 0, (-1.0*Xc + 1.0*x3)*((Xc - x3)**2 + (-Yc + y3)**2)**(-0.5), 0 ,0, 0,\n",
    "  (-1.0*Yc + 1.0*y3)*((Xc - x3)**2 + (-Yc + y3)**2)**(-0.5) ,0],\n",
    " [0, 0, 0 ,(-1.0*Xc + 1.0*x4)*((Xc - x4)**2 + (-Yc + y4)**2)**(-0.5), 0,0,0,\n",
    "  (-1.0*Yc + 1.0*y4)*((Xc - x4)**2 + (-Yc + y4)**2)**(-0.5)]]\n",
    "])\n",
    "\n",
    "print(\"The First Approximation of Design Matrix of Second Kind B0 is: \\n\", B0)"
   ]
  },
  {
   "cell_type": "code",
   "execution_count": 133,
   "metadata": {},
   "outputs": [
    {
     "name": "stdout",
     "output_type": "stream",
     "text": [
      "The First Approximation of Misclosure Vector W0 is: \n",
      " [[-2.84217094e-14]\n",
      " [-2.84217094e-14]\n",
      " [-2.84217094e-14]\n",
      " [-7.09442560e+00]]\n"
     ]
    }
   ],
   "source": [
    "# Misclosure Vector First Approximation W0\n",
    "\n",
    "W0= np.array([\n",
    "    [((y1-Yc)**2 + (Xc-x1)**2)**0.5 - R],\n",
    "    [((y2-Yc)**2 + (Xc-x2)**2)**0.5 - R],\n",
    "    [((y3-Yc)**2 + (Xc-x3)**2)**0.5 - R],\n",
    "    [((y4-Yc)**2 + (Xc-x4)**2)**0.5 - R]\n",
    "])\n",
    "\n",
    "print(\"The First Approximation of Misclosure Vector W0 is: \\n\", W0)"
   ]
  },
  {
   "cell_type": "code",
   "execution_count": 134,
   "metadata": {},
   "outputs": [
    {
     "name": "stdout",
     "output_type": "stream",
     "text": [
      "The Weight Matrix P is: \n",
      " [[0.5  0.   0.   0.   0.   0.   0.   0.  ]\n",
      " [0.   0.5  0.   0.   0.   0.   0.   0.  ]\n",
      " [0.   0.   0.25 0.   0.   0.   0.   0.  ]\n",
      " [0.   0.   0.   0.25 0.   0.   0.   0.  ]\n",
      " [0.   0.   0.   0.   0.5  0.   0.   0.  ]\n",
      " [0.   0.   0.   0.   0.   0.5  0.   0.  ]\n",
      " [0.   0.   0.   0.   0.   0.   0.25 0.  ]\n",
      " [0.   0.   0.   0.   0.   0.   0.   0.25]]\n"
     ]
    }
   ],
   "source": [
    "#Defining the Weight Matrix P and calculating the Cofactor matrix QLb \n",
    " \n",
    "P = np.array([\n",
    "    [1/2,0,0,0,0,0,0,0],\n",
    "    [0,1/2,0,0,0,0,0,0],\n",
    "    [0,0,1/4,0,0,0,0,0],\n",
    "    [0,0,0,1/4,0,0,0,0],\n",
    "    [0,0,0,0,1/2,0,0,0],\n",
    "    [0,0,0,0,0,1/2,0,0],\n",
    "    [0,0,0,0,0,0,1/4,0],\n",
    "    [0,0,0,0,0,0,0,1/4]\n",
    "])\n",
    "\n",
    "QLb = np.linalg.inv(P) # Cofactor Matrix\n",
    "\n",
    "print(\"The Weight Matrix P is: \\n\",P)"
   ]
  },
  {
   "cell_type": "code",
   "execution_count": 166,
   "metadata": {},
   "outputs": [],
   "source": [
    "x1 = 140\n",
    "y1 = 60\n",
    "\n",
    "x2 = 165\n",
    "y2 = 100\n",
    "\n",
    "x3 = 165\n",
    "y3 = 150\n",
    "\n",
    "x4 = 140\n",
    "y4 = 180\n",
    "\n",
    "Lb = np.array([\n",
    "    [x1],\n",
    "    [x2],\n",
    "    [x3],\n",
    "    [x4],\n",
    "    [y1],\n",
    "    [y2],\n",
    "    [y3],\n",
    "    [y4]\n",
    "])\n",
    "\n"
   ]
  },
  {
   "cell_type": "code",
   "execution_count": 202,
   "metadata": {},
   "outputs": [
    {
     "name": "stdout",
     "output_type": "stream",
     "text": [
      "The Adjusted Observation Vector La is: \n",
      " [[155.11871446]\n",
      " [238.03930625]\n",
      " [334.2700711 ]\n",
      " [341.55694358]\n",
      " [ 43.48375731]\n",
      " [ 78.3907378 ]\n",
      " [200.07990269]\n",
      " [366.31314113]]\n",
      "The Solution Vector X which gives the value of Xc, YC and R is: \n",
      " [[-105.02229826]\n",
      " [ 181.58034128]\n",
      " [ 227.5538233 ]]\n"
     ]
    }
   ],
   "source": [
    "# Performing Adjustment\n",
    "\n",
    "#Defining Parameter Vector\n",
    "X = np.array([\n",
    "    [Xc],\n",
    "    [Yc],\n",
    "    [R]\n",
    "    \n",
    "])\n",
    "\n",
    "# First Approximation\n",
    "A = np.squeeze(np.asarray(A0))\n",
    "P = np.squeeze(np.asarray(P))\n",
    "B = np.squeeze(np.asarray(B0))\n",
    "\n",
    "M = np.dot(np.dot(B,np.linalg.inv(P)),B.transpose())\n",
    "M = M.astype(float)\n",
    "\n",
    "KL = np.dot(np.linalg.inv(-M),(np.dot(A,X)+W)) #Langrangian Multiplier Kl\n",
    "V1 = np.dot(np.dot(np.linalg.inv(P),B.transpose()),KL) #Initial Residual Vector\n",
    "\n",
    "N_bar = np.dot(np.dot(A.transpose(),np.linalg.inv(M)),A)\n",
    "U_bar = np.dot(np.dot(A.transpose(),np.linalg.inv(M)),W)\n",
    "\n",
    "del_X = np.dot(np.linalg.inv(N_bar),U_bar) \n",
    "\n",
    "#Iterations\n",
    "\n",
    "flag = 0\n",
    "\n",
    "Vi = V1\n",
    "Xi = X + del_X\n",
    "Li = Lb + V1\n",
    "\n",
    "while(flag == 0):\n",
    "   \n",
    "    \n",
    "    Xc = Xi[0][0]\n",
    "    Yc = Xi[1][0]\n",
    "    R = Xi[2][0]\n",
    "    \n",
    "    x1 = Li[0][0]\n",
    "    x2 = Li[1][0]\n",
    "    x3 = Li[2][0]\n",
    "    x4 = Li[3][0]\n",
    "    \n",
    "    y1 = Li[4][0]\n",
    "    y2 = Li[5][0]\n",
    "    y3 = Li[6][0]\n",
    "    y4 = Li[7][0]\n",
    " \n",
    "    \n",
    "    Ai1 = np.array([\n",
    "    [[(1.0*Xc - 1.0*x1)*((Xc - x1)**2 + (-Yc + y1)**2)**(-0.5),\n",
    "  (1.0*Yc - 1.0*y1)*((Xc - x1)**2 + (-Yc + y1)**2)**(-0.5), -1],\n",
    " [(1.0*Xc - 1.0*x2)*((Xc - x2)**2 + (-Yc + y2)**2)**(-0.5),\n",
    "  (1.0*Yc - 1.0*y2)*((Xc - x2)**2 + (-Yc + y2)**2)**(-0.5) ,-1],\n",
    " [(1.0*Xc - 1.0*x3)*((Xc - x3)**2 + (-Yc + y3)**2)**(-0.5),\n",
    "  (1.0*Yc - 1.0*y3)*((Xc - x3)**2 + (-Yc + y3)**2)**(-0.5), -1],\n",
    " [(1.0*Xc - 1.0*x4)*((Xc - x4)**2 + (-Yc + y4)**2)**(-0.5),\n",
    "  (1.0*Yc - 1.0*y4)*((Xc - x4)**2 + (-Yc + y4)**2)**(-0.5), -1]]\n",
    "])\n",
    "    \n",
    "    \n",
    "    Bi1 = np.array([\n",
    "    [[(-1.0*Xc + 1.0*x1)*((Xc - x1)**2 + (-Yc + y1)**2)**(-0.5) ,0 ,0 ,0,\n",
    "  (-1.0*Yc + 1.0*y1)*((Xc - x1)**2 + (-Yc + y1)**2)**(-0.5) ,0 ,0 ,0],\n",
    " [0, (-1.0*Xc + 1.0*x2)*((Xc - x2)**2 + (-Yc + y2)**2)**(-0.5) ,0 ,0 ,0,\n",
    "  (-1.0*Yc + 1.0*y2)*((Xc - x2)**2 + (-Yc + y2)**2)**(-0.5), 0 ,0],\n",
    " [0, 0, (-1.0*Xc + 1.0*x3)*((Xc - x3)**2 + (-Yc + y3)**2)**(-0.5), 0 ,0, 0,\n",
    "  (-1.0*Yc + 1.0*y3)*((Xc - x3)**2 + (-Yc + y3)**2)**(-0.5) ,0],\n",
    " [0, 0, 0 ,(-1.0*Xc + 1.0*x4)*((Xc - x4)**2 + (-Yc + y4)**2)**(-0.5), 0,0,0,\n",
    "  (-1.0*Yc + 1.0*y4)*((Xc - x4)**2 + (-Yc + y4)**2)**(-0.5)]]\n",
    "])\n",
    "    \n",
    "    Wi1= np.array([\n",
    "        [((y1-Yc)**2 + (Xc-x1)**2)**0.5 - R],\n",
    "        [((y2-Yc)**2 + (Xc-x2)**2)**0.5 - R],\n",
    "        [((y3-Yc)**2 + (Xc-x3)**2)**0.5 - R],\n",
    "        [((y4-Yc)**2 + (Xc-x4)**2)**0.5 - R]\n",
    "    ])\n",
    "    \n",
    "    Ai1 = np.squeeze(np.asarray(Ai1))\n",
    "    P = np.squeeze(np.asarray(P))\n",
    "    Bi1 = np.squeeze(np.asarray(Bi1))\n",
    "    \n",
    "    Mi1 = np.dot(np.dot(Bi1,np.linalg.inv(P)),Bi1.transpose())\n",
    "    Mi1 = Mi1.astype(float)\n",
    "\n",
    "    KLi1 = np.dot(np.linalg.inv(-Mi1),(np.dot(Ai1,Xi)+Wi1)) #Langrangian Multiplier Kl\n",
    "    Vi1 = np.dot(np.dot(np.linalg.inv(P),B.transpose()),KL) #Initial Residual Vector\n",
    "\n",
    "    N_bari1 = np.dot(np.dot(Ai1.transpose(),np.linalg.inv(Mi1)),Ai1)\n",
    "    U_bari1 = np.dot(np.dot(Ai1.transpose(),np.linalg.inv(Mi1)),Wi1)\n",
    "\n",
    "    del_Xi1 = np.dot(np.linalg.inv(N_bari1),U_bari1)\n",
    "    \n",
    "    Vali = np.dot(np.dot(Vi.transpose(),P),Vi)\n",
    "    Vali1 = np.dot(np.dot(Vi1.transpose(),P),Vi1)\n",
    "    \n",
    "    E = 10**(-10)\n",
    "    \n",
    "    if((Vali1 - Vali) == 0):\n",
    "        V_fin = Vi1\n",
    "        X_fin = Xi\n",
    "        flag = 1\n",
    "        break\n",
    "    else:\n",
    "        Vi = V1\n",
    "        Xi = X1 + del_Xi1\n",
    "        Li = Lb + V11\n",
    "\n",
    "    \n",
    "La = Lb + V_fin\n",
    "print(\"The Adjusted Observation Vector La is: \\n\",La)\n",
    "print(\"The Solution Vector X which gives the value of Xc, YC and R is: \\n\",X_fin)"
   ]
  },
  {
   "cell_type": "code",
   "execution_count": 172,
   "metadata": {},
   "outputs": [
    {
     "name": "stdout",
     "output_type": "stream",
     "text": [
      "The Adjusted Observation Vector La is: \n",
      " [[154.90781653]\n",
      " [238.84187808]\n",
      " [332.50723999]\n",
      " [336.92677662]\n",
      " [ 43.71415001]\n",
      " [ 78.15329051]\n",
      " [199.55835503]\n",
      " [362.03315486]]\n",
      "The Solution Vector X which gives the value of Xc, YC and R is: \n",
      " [[-93.42715462]\n",
      " [176.86531284]\n",
      " [215.93439269]]\n"
     ]
    }
   ],
   "source": [
    "# Performing Adjustment\n",
    "\n",
    "#Defining Parameter Vector\n",
    "X = np.array([\n",
    "    [Xc],\n",
    "    [Yc],\n",
    "    [R]\n",
    "    \n",
    "])\n",
    "\n",
    "# First Approximation\n",
    "A = np.squeeze(np.asarray(A0))\n",
    "P = np.squeeze(np.asarray(P))\n",
    "B = np.squeeze(np.asarray(B0))\n",
    "\n",
    "M = np.dot(np.dot(B,np.linalg.inv(P)),B.transpose())\n",
    "M = M.astype(float)\n",
    "\n",
    "KL = np.dot(np.linalg.inv(-M),(np.dot(A,X)+W)) #Langrangian Multiplier Kl\n",
    "V1 = np.dot(np.dot(np.linalg.inv(P),B.transpose()),KL) #Initial Residual Vector\n",
    "\n",
    "N_bar = np.dot(np.dot(A.transpose(),np.linalg.inv(M)),A)\n",
    "U_bar = np.dot(np.dot(A.transpose(),np.linalg.inv(M)),W)\n",
    "\n",
    "del_X = np.dot(np.linalg.inv(N_bar),U_bar) \n",
    "\n",
    "#Iterations\n",
    "\n",
    "flag = 0\n",
    "\n",
    "Vi = V1\n",
    "Xi = X + del_X\n",
    "Li = Lb + V1\n",
    "\n",
    "while(flag == 0):\n",
    "   \n",
    "    \n",
    "    Xc = Xi[0][0]\n",
    "    Yc = Xi[1][0]\n",
    "    R = Xi[2][0]\n",
    "    \n",
    "    x1 = Li[0][0]\n",
    "    x2 = Li[1][0]\n",
    "    x3 = Li[2][0]\n",
    "    x4 = Li[3][0]\n",
    "    \n",
    "    y1 = Li[4][0]\n",
    "    y2 = Li[5][0]\n",
    "    y3 = Li[6][0]\n",
    "    y4 = Li[7][0]\n",
    " \n",
    "    \n",
    "    Ai1 = np.array([\n",
    "    [[(1.0*Xc - 1.0*x1)*((Xc - x1)**2 + (-Yc + y1)**2)**(-0.5),\n",
    "  (1.0*Yc - 1.0*y1)*((Xc - x1)**2 + (-Yc + y1)**2)**(-0.5), -1],\n",
    " [(1.0*Xc - 1.0*x2)*((Xc - x2)**2 + (-Yc + y2)**2)**(-0.5),\n",
    "  (1.0*Yc - 1.0*y2)*((Xc - x2)**2 + (-Yc + y2)**2)**(-0.5) ,-1],\n",
    " [(1.0*Xc - 1.0*x3)*((Xc - x3)**2 + (-Yc + y3)**2)**(-0.5),\n",
    "  (1.0*Yc - 1.0*y3)*((Xc - x3)**2 + (-Yc + y3)**2)**(-0.5), -1],\n",
    " [(1.0*Xc - 1.0*x4)*((Xc - x4)**2 + (-Yc + y4)**2)**(-0.5),\n",
    "  (1.0*Yc - 1.0*y4)*((Xc - x4)**2 + (-Yc + y4)**2)**(-0.5), -1]]\n",
    "])\n",
    "    \n",
    "    \n",
    "    Bi1 = np.array([\n",
    "    [[(-1.0*Xc + 1.0*x1)*((Xc - x1)**2 + (-Yc + y1)**2)**(-0.5) ,0 ,0 ,0,\n",
    "  (-1.0*Yc + 1.0*y1)*((Xc - x1)**2 + (-Yc + y1)**2)**(-0.5) ,0 ,0 ,0],\n",
    " [0, (-1.0*Xc + 1.0*x2)*((Xc - x2)**2 + (-Yc + y2)**2)**(-0.5) ,0 ,0 ,0,\n",
    "  (-1.0*Yc + 1.0*y2)*((Xc - x2)**2 + (-Yc + y2)**2)**(-0.5), 0 ,0],\n",
    " [0, 0, (-1.0*Xc + 1.0*x3)*((Xc - x3)**2 + (-Yc + y3)**2)**(-0.5), 0 ,0, 0,\n",
    "  (-1.0*Yc + 1.0*y3)*((Xc - x3)**2 + (-Yc + y3)**2)**(-0.5) ,0],\n",
    " [0, 0, 0 ,(-1.0*Xc + 1.0*x4)*((Xc - x4)**2 + (-Yc + y4)**2)**(-0.5), 0,0,0,\n",
    "  (-1.0*Yc + 1.0*y4)*((Xc - x4)**2 + (-Yc + y4)**2)**(-0.5)]]\n",
    "])\n",
    "    \n",
    "    Wi1= np.array([\n",
    "        [((y1-Yc)**2 + (Xc-x1)**2)**0.5 - R],\n",
    "        [((y2-Yc)**2 + (Xc-x2)**2)**0.5 - R],\n",
    "        [((y3-Yc)**2 + (Xc-x3)**2)**0.5 - R],\n",
    "        [((y4-Yc)**2 + (Xc-x4)**2)**0.5 - R]\n",
    "    ])\n",
    "    \n",
    "    Ai1 = np.squeeze(np.asarray(Ai1))\n",
    "    P = np.squeeze(np.asarray(P))\n",
    "    Bi1 = np.squeeze(np.asarray(Bi1))\n",
    "    \n",
    "    Mi1 = np.dot(np.dot(Bi1,np.linalg.inv(P)),Bi1.transpose())\n",
    "    Mi1 = Mi1.astype(float)\n",
    "\n",
    "    KLi1 = np.dot(np.linalg.inv(-Mi1),(np.dot(Ai1,Xi)+Wi1)) #Langrangian Multiplier Kl\n",
    "    Vi1 = np.dot(np.dot(np.linalg.inv(P),B.transpose()),KL) #Initial Residual Vector\n",
    "\n",
    "    N_bari1 = np.dot(np.dot(Ai1.transpose(),np.linalg.inv(Mi1)),Ai1)\n",
    "    U_bari1 = np.dot(np.dot(Ai1.transpose(),np.linalg.inv(Mi1)),Wi1)\n",
    "\n",
    "    del_Xi1 = np.dot(np.linalg.inv(N_bari1),U_bari1)\n",
    "    \n",
    "    Vali = np.dot(np.dot(Vi.transpose(),P),Vi)\n",
    "    Vali1 = np.dot(np.dot(Vi1.transpose(),P),Vi1)\n",
    "    \n",
    "    E = 10**(-10)\n",
    "    \n",
    "    if((Vali1 - Vali) == 0):\n",
    "        V_fin = Vi1\n",
    "        X_fin = Xi\n",
    "        flag = 1\n",
    "        break\n",
    "    else:\n",
    "        Vi = V1\n",
    "        Xi = X1 + del_Xi1\n",
    "        Li = Lb + V11\n",
    "\n",
    "    \n",
    "La = Lb + V_fin\n",
    "print(\"The Adjusted Observation Vector La is: \\n\",La)\n",
    "print(\"The Solution Vector X which gives the value of Xc, YC and R is: \\n\",X_fin)"
   ]
  },
  {
   "cell_type": "code",
   "execution_count": 177,
   "metadata": {},
   "outputs": [
    {
     "name": "stdout",
     "output_type": "stream",
     "text": [
      "The Coordinates of the center of the circle fitting best to the observed points, \n",
      " Xc = -93.42715461665114 , Yc = 176.86531284329456 is \n",
      "The Radius of the Circle is \n",
      " R = 215.93439268586806\n"
     ]
    }
   ],
   "source": [
    "print(\"The Coordinates of the center of the circle fitting best to the observed points, \\n Xc = {} , Yc = {} is \".format(X_fin[0][0],X_fin[1][0]))\n",
    "print(\"The Radius of the Circle is \\n R = {}\".format(X_fin[2][0]))"
   ]
  },
  {
   "cell_type": "code",
   "execution_count": 181,
   "metadata": {},
   "outputs": [
    {
     "name": "stdout",
     "output_type": "stream",
     "text": [
      "The Apriori Reference Variance is: \n",
      " [[0.05763284]]\n"
     ]
    }
   ],
   "source": [
    "#Calculating the Apriori Reference Variance\n",
    "n = 8\n",
    "u = 3\n",
    "r = n-u\n",
    "sigma02 = (np.dot(np.dot(V_fin.transpose(),P),V_fin))/(r*100000)\n",
    "print(\"The Apriori Reference Variance is: \\n\",sigma02)"
   ]
  },
  {
   "cell_type": "code",
   "execution_count": 183,
   "metadata": {},
   "outputs": [
    {
     "name": "stdout",
     "output_type": "stream",
     "text": [
      "The Cofactor matrix Qww is:\n",
      " [[2. 0. 0. 0.]\n",
      " [0. 2. 0. 0.]\n",
      " [0. 0. 4. 0.]\n",
      " [0. 0. 0. 4.]]\n"
     ]
    }
   ],
   "source": [
    "#Calculating the Cofactor matrix of Misclosure Qww\n",
    "\n",
    "Qww = M\n",
    "print(\"The Cofactor matrix Qww is:\\n\",Qww)"
   ]
  },
  {
   "cell_type": "code",
   "execution_count": 185,
   "metadata": {},
   "outputs": [
    {
     "name": "stdout",
     "output_type": "stream",
     "text": [
      "The Cofactor matrix of Residuals V is:\n",
      " [[ 0.91181868  0.          0.          0.         -0.99610444  0.\n",
      "   0.          0.        ]\n",
      " [ 0.          1.83902643  0.          0.          0.         -0.54409066\n",
      "   0.          0.        ]\n",
      " [ 0.          0.          3.67805286  0.          0.          0.\n",
      "   1.08818132  0.        ]\n",
      " [ 0.          0.          0.          2.1569628   0.          0.\n",
      "   0.          1.99383116]\n",
      " [-0.99610444  0.          0.          0.          1.08818132  0.\n",
      "   0.          0.        ]\n",
      " [ 0.         -0.54409066  0.          0.          0.          0.16097357\n",
      "   0.          0.        ]\n",
      " [ 0.          0.          1.08818132  0.          0.          0.\n",
      "   0.32194714  0.        ]\n",
      " [ 0.          0.          0.          1.99383116  0.          0.\n",
      "   0.          1.8430372 ]]\n"
     ]
    }
   ],
   "source": [
    "Qvv = np.dot(np.linalg.inv(P),np.dot(B.transpose(),np.dot(np.linalg.inv(M),np.dot(B,np.linalg.inv(P)))))\n",
    "print(\"The Cofactor matrix of Residuals V is:\\n\",Qvv)"
   ]
  },
  {
   "cell_type": "code",
   "execution_count": 186,
   "metadata": {},
   "outputs": [
    {
     "name": "stdout",
     "output_type": "stream",
     "text": [
      "The Cofactor matrix of Adjusted Observation La is:\n",
      " [[ 1.08818132  0.          0.          0.          0.99610444  0.\n",
      "   0.          0.        ]\n",
      " [ 0.          0.16097357  0.          0.          0.          0.54409066\n",
      "   0.          0.        ]\n",
      " [ 0.          0.          0.32194714  0.          0.          0.\n",
      "  -1.08818132  0.        ]\n",
      " [ 0.          0.          0.          1.8430372   0.          0.\n",
      "   0.         -1.99383116]\n",
      " [ 0.99610444  0.          0.          0.          0.91181868  0.\n",
      "   0.          0.        ]\n",
      " [ 0.          0.54409066  0.          0.          0.          1.83902643\n",
      "   0.          0.        ]\n",
      " [ 0.          0.         -1.08818132  0.          0.          0.\n",
      "   3.67805286  0.        ]\n",
      " [ 0.          0.          0.         -1.99383116  0.          0.\n",
      "   0.          2.1569628 ]]\n"
     ]
    }
   ],
   "source": [
    "#Calculating the Cofactor matrix of Adjusted Observation La\n",
    "\n",
    "QLa = QLb - Qvv\n",
    "print(\"The Cofactor matrix of Adjusted Observation La is:\\n\",QLa)"
   ]
  },
  {
   "cell_type": "code",
   "execution_count": 188,
   "metadata": {},
   "outputs": [
    {
     "name": "stdout",
     "output_type": "stream",
     "text": [
      "The Cofactor matrix of Parameters Xa is:\n",
      " [[ 41.1047498   -3.18103903 -34.56279773]\n",
      " [ -3.18103903   2.75253043   3.12597688]\n",
      " [-34.56279773   3.12597688  29.80991472]]\n"
     ]
    }
   ],
   "source": [
    "#Calculating the Cofactor matrix of Parameters Xa\n",
    "\n",
    "QXa = np.linalg.inv(N_bar)\n",
    "print(\"The Cofactor matrix of Parameters Xa is:\\n\",QXa)"
   ]
  },
  {
   "cell_type": "code",
   "execution_count": 193,
   "metadata": {},
   "outputs": [],
   "source": [
    "#Calculating the Cofactor matrix of Parameters Langrangian Multiplier Qkk\n",
    "\n",
    "Qkk = np.dot(np.linalg.inv(M), (1 -np.dot((np.dot(A,np.linalg.inv(N_bar)),np.dot(A.transpose(),np.linalg.inv(M))  ))))\n",
    "print(\"The Cofactor matrix of Langrangian Multiplier Qkk is:\\n\",Qkk)     "
   ]
  },
  {
   "cell_type": "code",
   "execution_count": null,
   "metadata": {},
   "outputs": [],
   "source": [
    "#Calculating the Variance-Covariance matrix of Langrangian Multiplier\n",
    "\n",
    "sigmakk = sigma02 * Qkk\n",
    "print(\"The Variance-Covariance matrix of Langrangian Multiplier K: \\n\",sigmakk)"
   ]
  },
  {
   "cell_type": "code",
   "execution_count": 194,
   "metadata": {},
   "outputs": [
    {
     "name": "stdout",
     "output_type": "stream",
     "text": [
      "The Variance-Covariance matrix of Residuals V: \n",
      " [[ 0.0525507   0.          0.          0.         -0.05740833  0.\n",
      "   0.          0.        ]\n",
      " [ 0.          0.10598831  0.          0.          0.         -0.03135749\n",
      "   0.          0.        ]\n",
      " [ 0.          0.          0.21197663  0.          0.          0.\n",
      "   0.06271498  0.        ]\n",
      " [ 0.          0.          0.          0.12431189  0.          0.\n",
      "   0.          0.11491015]\n",
      " [-0.05740833  0.          0.          0.          0.06271498  0.\n",
      "   0.          0.        ]\n",
      " [ 0.         -0.03135749  0.          0.          0.          0.00927736\n",
      "   0.          0.        ]\n",
      " [ 0.          0.          0.06271498  0.          0.          0.\n",
      "   0.01855473  0.        ]\n",
      " [ 0.          0.          0.          0.11491015  0.          0.\n",
      "   0.          0.10621947]]\n"
     ]
    }
   ],
   "source": [
    "#Calculating the Variance-Covariance matrix of Residuals V\n",
    "\n",
    "sigmaV = sigma02*Qvv\n",
    "print(\"The Variance-Covariance matrix of Residuals V: \\n\",sigmaV)"
   ]
  },
  {
   "cell_type": "code",
   "execution_count": 195,
   "metadata": {},
   "outputs": [
    {
     "name": "stdout",
     "output_type": "stream",
     "text": [
      "The Variance-Covariance matrix of Observations Lb: \n",
      " [[ 0.06271498  0.          0.          0.          0.05740833  0.\n",
      "   0.          0.        ]\n",
      " [ 0.          0.00927736  0.          0.          0.          0.03135749\n",
      "   0.          0.        ]\n",
      " [ 0.          0.          0.01855473  0.          0.          0.\n",
      "  -0.06271498  0.        ]\n",
      " [ 0.          0.          0.          0.10621947  0.          0.\n",
      "   0.         -0.11491015]\n",
      " [ 0.05740833  0.          0.          0.          0.0525507   0.\n",
      "   0.          0.        ]\n",
      " [ 0.          0.03135749  0.          0.          0.          0.10598831\n",
      "   0.          0.        ]\n",
      " [ 0.          0.         -0.06271498  0.          0.          0.\n",
      "   0.21197663  0.        ]\n",
      " [ 0.          0.          0.         -0.11491015  0.          0.\n",
      "   0.          0.12431189]]\n"
     ]
    }
   ],
   "source": [
    "#Calculating the Variance-Covariance matrix of Observations Lb\n",
    "\n",
    "sigmaLb = sigma02*QLa\n",
    "print(\"The Variance-Covariance matrix of Observations Lb: \\n\",sigmaLb)"
   ]
  },
  {
   "cell_type": "code",
   "execution_count": 196,
   "metadata": {},
   "outputs": [
    {
     "name": "stdout",
     "output_type": "stream",
     "text": [
      "The Variance-Covariance matrix of Observations Lb: \n",
      " [[ 2.36898343 -0.18333231 -1.99195216]\n",
      " [-0.18333231  0.15863614  0.18015892]\n",
      " [-1.99195216  0.18015892  1.71803002]]\n"
     ]
    }
   ],
   "source": [
    "#Calculating the Variance-Covariance matrix of Parameters Xa\n",
    "\n",
    "sigmaXa = sigma02*QXa\n",
    "print(\"The Variance-Covariance matrix of Observations Lb: \\n\",sigmaXa)"
   ]
  },
  {
   "cell_type": "code",
   "execution_count": 198,
   "metadata": {},
   "outputs": [
    {
     "name": "stdout",
     "output_type": "stream",
     "text": [
      "The Variance-Covariance matrix of Observations Lb: \n",
      " [[0.11526568 0.         0.         0.        ]\n",
      " [0.         0.11526568 0.         0.        ]\n",
      " [0.         0.         0.23053136 0.        ]\n",
      " [0.         0.         0.         0.23053136]]\n"
     ]
    }
   ],
   "source": [
    "#Calculating the Variance-Covariance matrix of Misclosure \n",
    "\n",
    "sigmaww = sigma02*Qww\n",
    "print(\"The Variance-Covariance matrix of Observations Lb: \\n\",sigmaww)"
   ]
  },
  {
   "cell_type": "code",
   "execution_count": 200,
   "metadata": {},
   "outputs": [
    {
     "data": {
      "text/plain": [
       "Text(0.5, 1.0, 'Plot Before Adjustement')"
      ]
     },
     "execution_count": 200,
     "metadata": {},
     "output_type": "execute_result"
    },
    {
     "data": {
      "image/png": "[encoded data removed]",
      "text/plain": [
       "<Figure size 432x288 with 1 Axes>"
      ]
     },
     "metadata": {
      "needs_background": "light"
     },
     "output_type": "display_data"
    }
   ],
   "source": [
    "#Plotting The Graph Before Adjustment\n",
    "\n",
    "import matplotlib.pyplot as plt \n",
    "\n",
    "x_val = [140,738.15 ,165 ,65 ]\n",
    "y_val = [60, 100 ,150,180 ]\n",
    "plt.figure()\n",
    "plt.plot(x_val,y_val)\n",
    "plt.xlabel('x')\n",
    "plt.ylabel('y')\n",
    "plt.title('Plot Before Adjustement')"
   ]
  },
  {
   "cell_type": "code",
   "execution_count": 201,
   "metadata": {},
   "outputs": [
    {
     "data": {
      "text/plain": [
       "Text(0.5, 1.0, 'Plot After Adjustement')"
      ]
     },
     "execution_count": 201,
     "metadata": {},
     "output_type": "execute_result"
    },
    {
     "data": {
      "image/png": "[encoded data removed]",
      "text/plain": [
       "<Figure size 432x288 with 1 Axes>"
      ]
     },
     "metadata": {
      "needs_background": "light"
     },
     "output_type": "display_data"
    }
   ],
   "source": [
    "\n",
    "\n",
    "#Plotting The Graph After Adjustment\n",
    "x_val = [La[0][0], La[1][0],La[2][0],La[3][0]]\n",
    "y_val = [La[4][0],La[5][0],La[6][0],La[7][0]]\n",
    "plt.figure()\n",
    "plt.plot(x_val,y_val)\n",
    "plt.xlabel('x')\n",
    "plt.ylabel('y')\n",
    "plt.title('Plot After Adjustement')\n"
   ]
  }
 ],
 "metadata": {
  "kernelspec": {
   "display_name": "Python 3",
   "language": "python",
   "name": "python3"
  },
  "language_info": {
   "codemirror_mode": {
    "name": "ipython",
    "version": 3
   },
   "file_extension": ".py",
   "mimetype": "text/x-python",
   "name": "python",
   "nbconvert_exporter": "python",
   "pygments_lexer": "ipython3",
   "version": "3.7.1"
  }
 },
 "nbformat": 4,
 "nbformat_minor": 4
}
